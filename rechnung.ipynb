{
 "cells": [
  {
   "cell_type": "code",
   "execution_count": 165,
   "id": "d2566fd1",
   "metadata": {},
   "outputs": [],
   "source": [
    "import numpy as np"
   ]
  },
  {
   "cell_type": "code",
   "execution_count": 173,
   "id": "081f5b0c",
   "metadata": {},
   "outputs": [],
   "source": [
    "adi_alteWG = np.array([10,50, 60, 100, 440])\n",
    "adi_neueWG = np.array([30, 20, 10])\n",
    "adi_einkaufen = np.array([1, 2, 4,5])\n",
    "\n",
    "ali_neueWG = np.array([119, 20 ,10])\n",
    "ali_einkaufen = np.array([1])\n",
    "\n",
    "philli_alteWG = np.array([100])\n",
    "philli_neueWG = np.array([200, 300, 400])\n",
    "philli_einkaufen = np.array([10, 2, 3])\n",
    "\n",
    "stelli_alteWG = np.array([1, 2, 70])\n",
    "stelli_neueWG = np.array([])\n",
    "stelli_einkaufen = np.array([10, 20])"
   ]
  },
  {
   "cell_type": "code",
   "execution_count": 185,
   "id": "3b8e9d77",
   "metadata": {},
   "outputs": [],
   "source": [
    "def alteWG (adi_alteWG, philli_alteWG, stelli_alteWG):\n",
    "    \n",
    "    adi_alteWG_sum = np.sum(adi_alteWG)\n",
    "    stelli_alteWG_sum = np.sum(stelli_alteWG)\n",
    "    philli_alteWG_sum = np.sum(philli_alteWG)\n",
    "    \n",
    "    gesamt_alteWG = adi_alteWG_sum + stelli_alteWG_sum + philli_alteWG_sum\n",
    "    anteil_jeder_alteWG = gesamt_alteWG/3.\n",
    "    \n",
    "    adi_alteWG_schulden = anteil_jeder_alteWG - adi_alteWG_sum\n",
    "    philli_alteWG_schulden = anteil_jeder_alteWG - philli_alteWG_sum\n",
    "    stelli_alteWG_schulden = anteil_jeder_alteWG - stelli_alteWG_sum\n",
    "    \n",
    "    return(adi_alteWG_schulden, 0, philli_alteWG_schulden, stelli_alteWG_schulden)\n",
    "\n",
    "def neueWG (adi_neueWG, ali_neueWG, philli_neueWG, stelli_neueWG):\n",
    "    \n",
    "    adi_neueWG_sum = np.sum(adi_neueWG)\n",
    "    ali_neueWG_sum = np.sum(ali_neueWG)\n",
    "    stelli_neueWG_sum = np.sum(stelli_neueWG)\n",
    "    philli_neueWG_sum = np.sum(philli_neueWG)\n",
    "    \n",
    "    gesamt_neueWG = adi_neueWG_sum + ali_neueWG_sum + stelli_neueWG_sum + philli_neueWG_sum\n",
    "    anteil_jeder_neueWG = gesamt_neueWG/4.\n",
    "    \n",
    "    adi_neueWG_schulden = anteil_jeder_neueWG - adi_neueWG_sum\n",
    "    ali_neueWG_schulden = anteil_jeder_neueWG - ali_neueWG_sum\n",
    "    philli_neueWG_schulden = anteil_jeder_neueWG - philli_neueWG_sum\n",
    "    stelli_neueWG_schulden = anteil_jeder_neueWG - stelli_neueWG_sum\n",
    "    \n",
    "    return(adi_neueWG_schulden, ali_neueWG_schulden, philli_neueWG_schulden, stelli_neueWG_schulden)\n",
    "\n",
    "def einkaufen (adi_einkaufen, ali_einkaufen, philli_einkaufen, stelli_einkaufen):\n",
    "    \n",
    "    adi_einkaufen_sum = np.sum(adi_einkaufen)\n",
    "    ali_einkaufen_sum = np.sum(ali_einkaufen)\n",
    "    stelli_einkaufen_sum = np.sum(stelli_einkaufen)\n",
    "    philli_einkaufen_sum = np.sum(philli_einkaufen)\n",
    "    \n",
    "    gesamt_einkaufen = adi_einkaufen_sum + ali_einkaufen_sum + stelli_einkaufen_sum + philli_einkaufen_sum\n",
    "    anteil_adi_einkaufen = gesamt_einkaufen * 5./19.\n",
    "    anteil_ali_einkaufen = gesamt_einkaufen * 5./19.\n",
    "    anteil_philli_einkaufen = gesamt_einkaufen * 5./19.\n",
    "    anteil_stelli_einkaufen = gesamt_einkaufen * 4./19.\n",
    "    \n",
    "    adi_einkaufen_schulden = anteil_adi_einkaufen - adi_einkaufen_sum\n",
    "    ali_einkaufen_schulden = anteil_ali_einkaufen - ali_einkaufen_sum\n",
    "    philli_einkaufen_schulden = anteil_philli_einkaufen - philli_einkaufen_sum\n",
    "    stelli_einkaufen_schulden = anteil_stelli_einkaufen - stelli_einkaufen_sum\n",
    "    \n",
    "    return(adi_einkaufen_schulden, ali_einkaufen_schulden, philli_einkaufen_schulden, stelli_einkaufen_schulden)\n",
    "\n",
    "def zahlungen(adi_alteWG, philli_alteWG, stelli_alteWG, adi_neueWG, ali_neueWG, philli_neueWG, stelli_neueWG, adi_einkaufen, ali_einkaufen, philli_einkaufen, stelli_einkaufen):\n",
    "    \n",
    "    adi_alteWG_schulden, ali_alteWG_schulden, philli_alteWG_schulden, stelli_alteWG_schulden = alteWG (adi_alteWG, philli_alteWG, stelli_alteWG)\n",
    "    adi_neueWG_schulden, ali_neueWG_schulden, philli_neueWG_schulden, stelli_neueWG_schulden = neueWG(adi_neueWG, ali_neueWG, philli_neueWG, stelli_neueWG)\n",
    "    adi_einkaufen_schulden, ali_einkaufen_schulden, philli_einkaufen_schulden, stelli_einkaufen_schulden = einkaufen (adi_einkaufen, ali_einkaufen, philli_einkaufen, stelli_einkaufen)\n",
    "    \n",
    "    adi_gesamt_schulden = adi_alteWG_schulden + adi_neueWG_schulden + adi_einkaufen_schulden\n",
    "    ali_gesamt_schulden = ali_alteWG_schulden + ali_neueWG_schulden + ali_einkaufen_schulden\n",
    "    philli_gesamt_schulden = philli_alteWG_schulden + philli_neueWG_schulden + philli_einkaufen_schulden\n",
    "    stelli_gesamt_schulden = stelli_alteWG_schulden + stelli_neueWG_schulden + stelli_einkaufen_schulden\n",
    "    \n",
    "    \n",
    "    schulden_0 = np.array([adi_gesamt_schulden, ali_gesamt_schulden, philli_gesamt_schulden, stelli_gesamt_schulden])\n",
    "    adi_ali = np.array([1, -1, 0, 0])\n",
    "    ali_philli = np.array([0, 1, -1, 0])\n",
    "    philli_stelli = np.array([0, 0, 1, -1])\n",
    "    \n",
    "    \n",
    "    schulden_1 = schulden_0 - schulden_0[0]*adi_ali[0]*adi_ali\n",
    "    adi_an_ali = (schulden_0[0]*adi_ali[0]*adi_ali)[0]\n",
    "    schulden_2 = schulden_1 - schulden_1[1]*ali_philli[1]*ali_philli\n",
    "    ali_an_philli = (schulden_1[1]*ali_philli[1]*ali_philli)[1]\n",
    "    schulden_3 = schulden_2 - schulden_2[2]*philli_stelli[2]*philli_stelli\n",
    "    philli_an_stelli = (schulden_2[2]*philli_stelli[2]*philli_stelli)[2]\n",
    "    \n",
    "    #print('alteWG: ', adi_alteWG_schulden, ali_alteWG_schulden, philli_alteWG_schulden, stelli_alteWG_schulden)\n",
    "    #print('adi_neueWG_schulden: ', ali_neueWG_schulden, philli_neueWG_schulden, stelli_neueWG_schulden)\n",
    "    #print('adi_einkaufen_schulden: ', ali_einkaufen_schulden, philli_einkaufen_schulden, stelli_einkaufen_schulden)\n",
    "    print('schulden gesamt [Adi, Ali, Philli, Stelli]: ', schulden_0)\n",
    "    \n",
    "    \n",
    "    print(\"Adi gibt Ali: \", adi_an_ali)\n",
    "    print(\"Ali gibt Philli: \", ali_an_philli)\n",
    "    print(\"Philli gibt Stelli: \", philli_an_stelli)"
   ]
  },
  {
   "cell_type": "code",
   "execution_count": 184,
   "id": "2706f7b4",
   "metadata": {},
   "outputs": [
    {
     "name": "stdout",
     "output_type": "stream",
     "text": [
      "schulden gesamt (Adi, Ali, Philli, Stelli):  [-161.82017544  142.51315789 -444.82017544  464.12719298]\n",
      "Adi gibt Ali:  -161.82017543859646\n",
      "Ali gibt Philli:  -19.307017543859615\n",
      "Philli gibt Stelli:  -464.1271929824561\n"
     ]
    }
   ],
   "source": [
    "zahlungen(adi_alteWG, philli_alteWG, stelli_alteWG, adi_neueWG, ali_neueWG, philli_neueWG, stelli_neueWG, adi_einkaufen, ali_einkaufen, philli_einkaufen, stelli_einkaufen)"
   ]
  },
  {
   "cell_type": "code",
   "execution_count": null,
   "id": "605d4534",
   "metadata": {},
   "outputs": [],
   "source": []
  }
 ],
 "metadata": {
  "kernelspec": {
   "display_name": "Python 3",
   "language": "python",
   "name": "python3"
  },
  "language_info": {
   "codemirror_mode": {
    "name": "ipython",
    "version": 3
   },
   "file_extension": ".py",
   "mimetype": "text/x-python",
   "name": "python",
   "nbconvert_exporter": "python",
   "pygments_lexer": "ipython3",
   "version": "3.9.5"
  }
 },
 "nbformat": 4,
 "nbformat_minor": 5
}
